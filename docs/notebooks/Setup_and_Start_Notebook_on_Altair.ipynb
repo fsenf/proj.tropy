{
 "cells": [
  {
   "cell_type": "markdown",
   "metadata": {},
   "source": [
    "# Setup Ipython Notebook on Altair"
   ]
  },
  {
   "cell_type": "markdown",
   "metadata": {},
   "source": [
    "This tutorial discusses how to setup a ipython notebook on the TROPOS server altair.tropos.de.\n",
    "\n",
    "Several steps have to be done:\n",
    "  * ask around to get a fixed port number for your notebook server\n",
    "  * create a (or modify an existing) profile\n",
    "  * make an alias for easy notebook starting"
   ]
  },
  {
   "cell_type": "markdown",
   "metadata": {},
   "source": [
    "## Port number"
   ]
  },
  {
   "cell_type": "markdown",
   "metadata": {},
   "source": [
    "Once started, the notebook server runs on altair and connects with a certain port. The default is 8888. If the next notebook server is started, the default port is blocked and another (perhaps 8889) is automatically chosen. \n",
    "\n",
    "If everybody in the sat-group is fine to have only one notebook server running at once, the easiest way to coordinate the port assignment is to give each user a priory a fixed port number. This makes final port forwarding very easy...\n",
    "\n",
    "Port list\n",
    "* Fabian: port 8787\n",
    "* Stephan: port 8788\n",
    "* Annceline: port 8789"
   ]
  },
  {
   "cell_type": "markdown",
   "metadata": {},
   "source": [
    "## Ipython profile"
   ]
  },
  {
   "cell_type": "markdown",
   "metadata": {},
   "source": [
    "For configuration, it is best to setup an ipython profile. This is done with:"
   ]
  },
  {
   "cell_type": "markdown",
   "metadata": {},
   "source": [
    "<code>$ ipython profile create sat</code>"
   ]
  },
  {
   "cell_type": "markdown",
   "metadata": {},
   "source": [
    "There profile configuration file are then saved in the directory ~/.ipython/profile_sat. Go there and modify the file ipython_notebook_config.py.\n",
    "\n",
    "This file contains several entries , that should be uncommented and changed (examples are shown)"
   ]
  },
  {
   "cell_type": "markdown",
   "metadata": {},
   "source": [
    "### Port setting"
   ]
  },
  {
   "cell_type": "markdown",
   "metadata": {},
   "source": [
    "<code>c.NotebookApp.port = 8787</code>"
   ]
  },
  {
   "cell_type": "markdown",
   "metadata": {},
   "source": [
    "### Browser setting"
   ]
  },
  {
   "cell_type": "markdown",
   "metadata": {},
   "source": [
    "<code>c.NotebookApp.open_browser = False</code>"
   ]
  },
  {
   "cell_type": "markdown",
   "metadata": {},
   "source": [
    "### Profile setting"
   ]
  },
  {
   "cell_type": "markdown",
   "metadata": {},
   "source": [
    "<code>c.NotebookApp.profile = u'sat'</code>"
   ]
  },
  {
   "cell_type": "markdown",
   "metadata": {},
   "source": [
    "### Password protection"
   ]
  },
  {
   "cell_type": "markdown",
   "metadata": {},
   "source": [
    "This part is a bit more complicated.\n",
    "\n",
    "First, you think of a password that you will use to secure your session: we take the example test123.\n",
    "\n",
    "Then you generate a hashed password in a terminal by inserting the following command."
   ]
  },
  {
   "cell_type": "markdown",
   "metadata": {},
   "source": [
    "<code>$ python -c 'from IPython.lib import passwd; print(passwd())'\n",
    "Enter password: test123\n",
    "Verify password: test123\n",
    "sha1:0f6086a98c7b:82420eebe819f118e498933ae270f6c1074988af</code>"
   ]
  },
  {
   "cell_type": "markdown",
   "metadata": {},
   "source": [
    "The long string beginning with sha1: is the hashed password you include into your profile, the short string (here we used test123 as example) is the password you will insert into the browser when you are asked."
   ]
  },
  {
   "cell_type": "markdown",
   "metadata": {},
   "source": [
    "<code>c.NotebookApp.password = u'sha1:0f6086a98c7b:82420eebe819f118e498933ae270f6c1074988af'</code>"
   ]
  },
  {
   "cell_type": "markdown",
   "metadata": {},
   "source": [
    "That's it for the notebook configuration. (There is also the possibility to use secure connection via ssl, but I don't think it is needed within the TROPOS network.)"
   ]
  },
  {
   "cell_type": "markdown",
   "metadata": {},
   "source": [
    "## Setting an Alias"
   ]
  },
  {
   "cell_type": "markdown",
   "metadata": {},
   "source": [
    "For fast start of the notebook server, it helpful to setup an alias in your .bashrc at the altair server.\n",
    "\n",
    "Therefore, you open the .bashrc"
   ]
  },
  {
   "cell_type": "markdown",
   "metadata": {},
   "source": [
    "<code>$ vim ~/.bashrc</code>"
   ]
  },
  {
   "cell_type": "markdown",
   "metadata": {},
   "source": [
    "and insert the following in the alias section"
   ]
  },
  {
   "cell_type": "markdown",
   "metadata": {},
   "source": [
    "<code>alias pynb=\"ipython notebook --profile sat\"</code>"
   ]
  },
  {
   "cell_type": "markdown",
   "metadata": {},
   "source": [
    "Hence, the new command pynb will start an ipython notebook at your selected port that is secured with your password."
   ]
  },
  {
   "cell_type": "markdown",
   "metadata": {},
   "source": [
    "# Starting Ipython Notebook"
   ]
  },
  {
   "cell_type": "markdown",
   "metadata": {},
   "source": [
    "There is a typical workflow to start the notebook.\n",
    "\n",
    "* from your local machine: your create a ssh tunnel to your notebook port in a terminal\n",
    "* at the altair server: your go to the work directory where your notebooks should be stored and start the notebook\n",
    "* at your local machine: you open your browser and connect to the notebook"
   ]
  },
  {
   "cell_type": "markdown",
   "metadata": {},
   "source": [
    "## ssh tunnel"
   ]
  },
  {
   "cell_type": "markdown",
   "metadata": {},
   "source": [
    "First, you create an ssh tunnel that forwards a port on the server side to a port on the local machine (We take the same ports for simplicity)."
   ]
  },
  {
   "cell_type": "markdown",
   "metadata": {},
   "source": [
    "<code>$ ssh -L8787:localhost:8787 $USER@altair.tropos.de</code>"
   ]
  },
  {
   "cell_type": "markdown",
   "metadata": {},
   "source": [
    "Change the port (here 8787) to your port! \n",
    "\n",
    "The command above sets up a connection to the server."
   ]
  },
  {
   "cell_type": "markdown",
   "metadata": {},
   "source": [
    "## start notebook"
   ]
  },
  {
   "cell_type": "markdown",
   "metadata": {},
   "source": [
    "Now, (being at the server) we go to the working directory. For instance,"
   ]
  },
  {
   "cell_type": "markdown",
   "metadata": {},
   "source": [
    "<code>$ cd /vols/talos/home/fabian/lib/tropy/tutorials</code>"
   ]
  },
  {
   "cell_type": "markdown",
   "metadata": {},
   "source": [
    "And start the notebook using our shortcut"
   ]
  },
  {
   "cell_type": "markdown",
   "metadata": {},
   "source": [
    "<code>$ pynb</code>"
   ]
  },
  {
   "cell_type": "markdown",
   "metadata": {},
   "source": [
    "Now, the notebook is connected to the server port, which is further connected to your local port via ssh tunnel."
   ]
  },
  {
   "cell_type": "markdown",
   "metadata": {},
   "source": [
    "## Open the notebook"
   ]
  },
  {
   "cell_type": "markdown",
   "metadata": {},
   "source": [
    "The notebook works within a browser, hence you open a browser e.g. firefox and type in the address "
   ]
  },
  {
   "cell_type": "markdown",
   "metadata": {},
   "source": [
    "<code>http://localhost:8787</code>"
   ]
  },
  {
   "cell_type": "markdown",
   "metadata": {},
   "source": [
    "where 8787 is the port --> You have to use your own one!\n",
    "\n",
    "In the progress, you will be asked after a password and you enter (and perhaps save) it. For the example above the password is test123 that you used to generate the hashed password.\n",
    "\n",
    "The notebook starts and you can begin work ...."
   ]
  },
  {
   "cell_type": "markdown",
   "metadata": {},
   "source": [
    "For fast access, you might like to make a bookmark to the localhost address."
   ]
  },
  {
   "cell_type": "markdown",
   "metadata": {},
   "source": [
    "## Summary"
   ]
  },
  {
   "cell_type": "markdown",
   "metadata": {},
   "source": [
    "After you did it once, setting up a running notebook can be done quite fast:\n",
    "* you open a terminal and search bash history (page up) until you have the ssh-tunnel command\n",
    "* with cd, you go to the place and with pynb, you start notebook\n",
    "\n",
    "All together three commands in the terminal....\n",
    "\n",
    "Last thing is to click on the browser bookmark and done!"
   ]
  }
 ],
 "metadata": {},
 "nbformat": 4,
 "nbformat_minor": 2
}
